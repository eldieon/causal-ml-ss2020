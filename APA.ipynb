{
 "cells": [
  {
   "cell_type": "markdown",
   "metadata": {},
   "source": [
    "# Advanced Predictive Analytics\n",
    "### Group 5: Vanessa Chanliau and Abdallah Maarouf\n",
    "\n",
    "## Stacking for Heterogenous Treatment Effects\n",
    "\n",
    "- Introduction\n",
    " - Topic\n",
    " - Motivation\n",
    "- Literature Review\n",
    "- Application\n",
    " - Data Generation\n",
    " - Using double machine learning\n",
    " - Using R-Learner\n",
    " - Evaluation of treatment effect estimation when using only one model\n",
    " - Stacking using Super Learner\n",
    " - Evaluation after stacking and comparison\n",
    "- Conclusion"
   ]
  },
  {
   "cell_type": "markdown",
   "metadata": {},
   "source": [
    "\n",
    "# <span style=\"color:red\">Insert introduction, topic, motivation, literature review here</span>"
   ]
  },
  {
   "cell_type": "markdown",
   "metadata": {},
   "source": [
    "# Application\n",
    " ## Data Generation\n",
    " For data generation, we decided to use the [opossum package explained here.](https://humboldt-wi.github.io/blog/research/applied_predictive_modeling_19/data_generating_process_blogpost/#Example:-Applying-double-machine-learning) The library is provided [here.](https://github.com/jgitr/opossum)\n",
    " \n",
    " "
   ]
  },
  {
   "cell_type": "code",
   "execution_count": 1,
   "metadata": {},
   "outputs": [
    {
     "name": "stdout",
     "output_type": "stream",
     "text": [
      "Note: you may need to restart the kernel to use updated packages.\n"
     ]
    },
    {
     "name": "stderr",
     "output_type": "stream",
     "text": [
      "'c:\\users\\alex' is not recognized as an internal or external command,\n",
      "operable program or batch file.\n"
     ]
    }
   ],
   "source": [
    "%pip install opossum\n"
   ]
  },
  {
   "cell_type": "code",
   "execution_count": 2,
   "metadata": {},
   "outputs": [],
   "source": [
    "from opossum import UserInterface\n",
    "# number of observations N and number of covariates k\n",
    "N = 10000\n",
    "k = 50\n",
    "# initilizing class\n",
    "u = UserInterface(N, k, seed=1, categorical_covariates = None)\n",
    "# assign treatment and generate treatment effect inside of class object\n",
    "u.generate_treatment(random_assignment = True, \n",
    "                     assignment_prob = 0.5, \n",
    "                     constant_pos = False, \n",
    "                     constant_neg = False,\n",
    "                     heterogeneous_pos = False, \n",
    "                     heterogeneous_neg = False, \n",
    "                     no_treatment = False, \n",
    "                     discrete_heterogeneous = True,\n",
    "                     treatment_option_weights = None, \n",
    "                     intensity = 5)\n",
    "# generate output variable y and return all 4 variables\n",
    "y, X, assignment, treatment = u.output_data(binary=False, x_y_relation = 'partial_nonlinear_simple')"
   ]
  },
  {
   "cell_type": "code",
   "execution_count": 3,
   "metadata": {},
   "outputs": [
    {
     "name": "stdout",
     "output_type": "stream",
     "text": [
      "y: [ 4.16994681  1.57187315 -1.28494508 ...  1.30579824 -0.13093045\n",
      "  1.46044035]\n",
      "X: [[ 0.45964025 -0.65336079  1.73929275 ...  0.66234525 -0.46020249\n",
      "  -0.2696087 ]\n",
      " [ 0.52121688 -0.84512238  0.58918171 ... -0.65431298 -0.45540562\n",
      "  -0.53901879]\n",
      " [ 1.1175185  -0.22318138  1.64659613 ... -0.03963994 -0.87405296\n",
      "   0.27389638]\n",
      " ...\n",
      " [ 0.8297609  -0.04765842  1.0980737  ...  0.02943596  1.43387277\n",
      "  -0.12644993]\n",
      " [-0.20471307  0.88729873  0.64399408 ...  1.07613683  0.38051625\n",
      "   0.54263567]\n",
      " [ 1.51404607 -1.994225   -0.12169871 ... -0.43031059  0.17972622\n",
      "   0.12363892]]\n",
      "assignment: [0 0 1 ... 1 0 0]\n",
      "treatment: [0.  0.  0.5 ... 1.  0.  0. ]\n"
     ]
    }
   ],
   "source": [
    "print('y:', y)\n",
    "print('X:', X)\n",
    "print('assignment:', assignment)\n",
    "print('treatment:', treatment)"
   ]
  },
  {
   "cell_type": "code",
   "execution_count": 4,
   "metadata": {},
   "outputs": [
    {
     "data": {
      "text/plain": [
       "10000"
      ]
     },
     "execution_count": 4,
     "metadata": {},
     "output_type": "execute_result"
    }
   ],
   "source": [
    "len(assignment)"
   ]
  },
  {
   "cell_type": "markdown",
   "metadata": {},
   "source": [
    "At this point, our virtual environment consists of:\n",
    "\n",
    "- X: Matrix of size N*k, representing feature covariates. \n",
    "- y: List if size N, representing output variable.\n",
    "- assignment: List of size N, representing whether the observation was treated or not.\n",
    "- treatment: List of size N, which is the true treatment effect."
   ]
  },
  {
   "cell_type": "code",
   "execution_count": 5,
   "metadata": {},
   "outputs": [
    {
     "name": "stdout",
     "output_type": "stream",
     "text": [
      "Note: you may need to restart the kernel to use updated packages.\n"
     ]
    },
    {
     "name": "stderr",
     "output_type": "stream",
     "text": [
      "'c:\\users\\alex' is not recognized as an internal or external command,\n",
      "operable program or batch file.\n"
     ]
    }
   ],
   "source": [
    "%pip install matplotlib"
   ]
  },
  {
   "cell_type": "code",
   "execution_count": 6,
   "metadata": {},
   "outputs": [
    {
     "name": "stdout",
     "output_type": "stream",
     "text": [
      "Requirement already satisfied: mlens in c:\\users\\alex work\\pycharmprojects\\finalapa\\venv\\lib\\site-packages (0.2.3)\n",
      "Requirement already satisfied: numpy>=1.11 in c:\\users\\alex work\\pycharmprojects\\finalapa\\venv\\lib\\site-packages (from mlens) (1.19.0)\n",
      "Requirement already satisfied: scipy>=0.17 in c:\\users\\alex work\\pycharmprojects\\finalapa\\venv\\lib\\site-packages (from mlens) (1.5.0)\n"
     ]
    }
   ],
   "source": [
    "!pip install mlens"
   ]
  },
  {
   "cell_type": "code",
   "execution_count": 7,
   "metadata": {
    "scrolled": true
   },
   "outputs": [
    {
     "data": {
      "image/png": "[encoded data removed]",
      "text/plain": [
       "<Figure size 432x288 with 1 Axes>"
      ]
     },
     "metadata": {
      "needs_background": "light"
     },
     "output_type": "display_data"
    }
   ],
   "source": [
    "import matplotlib.pyplot as plt\n",
    "import numpy as np\n",
    "\n",
    "n, bins, patches = plt.hist(y, 100, density=0.1, alpha=0.75)\n",
    "plt.tight_layout()\n",
    "plt.grid(True)\n",
    "plt.show()"
   ]
  },
  {
   "cell_type": "markdown",
   "metadata": {},
   "source": [
    "# <span style=\"color:red\">Insert some graph plots here</span>"
   ]
  },
  {
   "cell_type": "markdown",
   "metadata": {},
   "source": [
    "# <span style=\"color:red\">Insert double machine learning method here</span> \n",
    "[Link to beginning point](https://humboldt-wi.github.io/blog/research/applied_predictive_modeling_19/double_machine_learning/)"
   ]
  },
  {
   "cell_type": "markdown",
   "metadata": {},
   "source": [
    "# <span style=\"color:red\">Insert R-learner method here</span> \n",
    "[Link to beginning point](https://github.com/xnie/rlearner)"
   ]
  },
  {
   "cell_type": "markdown",
   "metadata": {},
   "source": [
    "# <span style=\"color:red\">Insert models we should use here</span>\n",
    "## First, models that can be used with r-learner (minimizing risiduals models)\n",
    "## Then, models we choose to implement mentioned in grimmer et al (don't forget to mention parameter tuning)"
   ]
  },
  {
   "cell_type": "code",
   "execution_count": 8,
   "metadata": {},
   "outputs": [],
   "source": [
    "import numpy as np\n",
    "import pandas as pd \n",
    "from sklearn import linear_model\n",
    "from sklearn.linear_model import Lasso\n",
    "import matplotlib.pyplot as plt\n",
    "from sklearn.model_selection import train_test_split\n",
    "from sklearn.metrics import r2_score, mean_squared_error\n",
    "from sklearn.ensemble import RandomForestRegressor, BaggingRegressor\n",
    "from sklearn import svm\n",
    "from sklearn.linear_model import LinearRegression\n",
    "from sklearn.metrics import accuracy_score\n",
    "from math import floor"
   ]
  },
  {
   "cell_type": "markdown",
   "metadata": {},
   "source": [
    "### Add assignment as a variable"
   ]
  },
  {
   "cell_type": "code",
   "execution_count": 9,
   "metadata": {},
   "outputs": [],
   "source": [
    "df = pd.DataFrame(X)"
   ]
  },
  {
   "cell_type": "code",
   "execution_count": 10,
   "metadata": {},
   "outputs": [],
   "source": [
    "df['assignment'] = assignment"
   ]
  },
  {
   "cell_type": "code",
   "execution_count": 11,
   "metadata": {},
   "outputs": [],
   "source": [
    "Xa = df.values"
   ]
  },
  {
   "cell_type": "markdown",
   "metadata": {},
   "source": [
    "### Split into training and test"
   ]
  },
  {
   "cell_type": "code",
   "execution_count": 12,
   "metadata": {},
   "outputs": [],
   "source": [
    "n_samples = X.shape[0]\n",
    "n_train = floor(n_samples*0.8)\n",
    "X_train, y_train = X[:n_train], treatment[:n_train]\n",
    "X_test, y_test = X[n_train:], treatment[n_train:]"
   ]
  },
  {
   "cell_type": "markdown",
   "metadata": {},
   "source": [
    "### Lasso model"
   ]
  },
  {
   "cell_type": "code",
   "execution_count": 47,
   "metadata": {},
   "outputs": [
    {
     "name": "stdout",
     "output_type": "stream",
     "text": [
      "Lasso(alpha=0.001)\n",
      "r^2 on test data : 0.016407\n"
     ]
    }
   ],
   "source": [
    "alpha = 0.001\n",
    "lasso = Lasso(alpha=alpha)\n",
    "\n",
    "y_pred_lasso = lasso.fit(X_train, y_train).predict(X_test)\n",
    "r2_score_lasso = r2_score(y_test, y_pred_lasso)\n",
    "print(lasso)\n",
    "print(\"r^2 on test data : %f\" % r2_score_lasso)"
   ]
  },
  {
   "cell_type": "code",
   "execution_count": 48,
   "metadata": {},
   "outputs": [
    {
     "data": {
      "text/plain": [
       "0.17223795126485256"
      ]
     },
     "execution_count": 48,
     "metadata": {},
     "output_type": "execute_result"
    }
   ],
   "source": [
    "lassomse = mean_squared_error(y_test, y_pred_lasso)\n",
    "lassomse"
   ]
  },
  {
   "cell_type": "markdown",
   "metadata": {},
   "source": [
    "### Elastic Net"
   ]
  },
  {
   "cell_type": "code",
   "execution_count": 15,
   "metadata": {},
   "outputs": [],
   "source": [
    "from sklearn.linear_model import ElasticNet"
   ]
  },
  {
   "cell_type": "code",
   "execution_count": 16,
   "metadata": {
    "scrolled": true
   },
   "outputs": [
    {
     "name": "stdout",
     "output_type": "stream",
     "text": [
      "ElasticNet(alpha=0.001, l1_ratio=0.7)\n",
      "r^2 on test data : 0.016188\n"
     ]
    }
   ],
   "source": [
    "enet = ElasticNet(alpha=alpha, l1_ratio=0.7)\n",
    "\n",
    "y_pred_enet = enet.fit(X_train, y_train).predict(X_test)\n",
    "r2_score_enet = r2_score(y_test, y_pred_enet)\n",
    "print(enet)\n",
    "print(\"r^2 on test data : %f\" % r2_score_enet)"
   ]
  },
  {
   "cell_type": "code",
   "execution_count": 17,
   "metadata": {},
   "outputs": [
    {
     "data": {
      "text/plain": [
       "0.1722761838038364"
      ]
     },
     "execution_count": 17,
     "metadata": {},
     "output_type": "execute_result"
    }
   ],
   "source": [
    "enetmse = mean_squared_error(y_test, y_pred_enet)\n",
    "enetmse"
   ]
  },
  {
   "cell_type": "markdown",
   "metadata": {},
   "source": [
    "### Random Forest"
   ]
  },
  {
   "cell_type": "code",
   "execution_count": 18,
   "metadata": {},
   "outputs": [],
   "source": [
    "RF = RandomForestRegressor()\n",
    "y_pred_rf = RF.fit(X_train, y_train).predict(X_test)\n"
   ]
  },
  {
   "cell_type": "code",
   "execution_count": 19,
   "metadata": {},
   "outputs": [
    {
     "name": "stdout",
     "output_type": "stream",
     "text": [
      "RandomForestRegressor()\n",
      "r^2 on test data : -0.009495\n"
     ]
    }
   ],
   "source": [
    "r2_score_rf = r2_score(y_test, y_pred_rf)\n",
    "print(RF)\n",
    "print(\"r^2 on test data : %f\" % r2_score_rf)"
   ]
  },
  {
   "cell_type": "code",
   "execution_count": 20,
   "metadata": {},
   "outputs": [
    {
     "data": {
      "text/plain": [
       "0.17677362500000002"
      ]
     },
     "execution_count": 20,
     "metadata": {},
     "output_type": "execute_result"
    }
   ],
   "source": [
    "rfmse = mean_squared_error(y_test, y_pred_rf)\n",
    "rfmse"
   ]
  },
  {
   "cell_type": "markdown",
   "metadata": {},
   "source": [
    "### Support Vector Machines\n"
   ]
  },
  {
   "cell_type": "code",
   "execution_count": 21,
   "metadata": {},
   "outputs": [],
   "source": [
    "svmregr = svm.SVR()\n",
    "y_pred_svm = svmregr.fit(X_train, y_train).predict(X_test)"
   ]
  },
  {
   "cell_type": "code",
   "execution_count": 22,
   "metadata": {},
   "outputs": [
    {
     "name": "stdout",
     "output_type": "stream",
     "text": [
      "SVR()\n",
      "r^2 on test data : -0.147039\n"
     ]
    }
   ],
   "source": [
    "r2_score_svm = r2_score(y_test, y_pred_svm)\n",
    "print(svmregr)\n",
    "print(\"r^2 on test data : %f\" % r2_score_svm)"
   ]
  },
  {
   "cell_type": "code",
   "execution_count": 23,
   "metadata": {},
   "outputs": [
    {
     "data": {
      "text/plain": [
       "0.20085913486795137"
      ]
     },
     "execution_count": 23,
     "metadata": {},
     "output_type": "execute_result"
    }
   ],
   "source": [
    "svmmse = mean_squared_error(y_test, y_pred_svm)\n",
    "svmmse"
   ]
  },
  {
   "cell_type": "markdown",
   "metadata": {},
   "source": [
    "# <span style=\"color:red\">Insert Super learner here (Most improtant step)</span> "
   ]
  },
  {
   "cell_type": "code",
   "execution_count": 24,
   "metadata": {},
   "outputs": [
    {
     "name": "stderr",
     "output_type": "stream",
     "text": [
      "[MLENS] backend: threading\n"
     ]
    }
   ],
   "source": [
    "from mlens.ensemble import SuperLearner"
   ]
  },
  {
   "cell_type": "code",
   "execution_count": 25,
   "metadata": {},
   "outputs": [
    {
     "data": {
      "text/plain": [
       "SuperLearner(array_check=None, backend=None, folds=2,\n",
       "       layers=[Layer(backend='threading', dtype=<class 'numpy.float32'>, n_jobs=-1,\n",
       "   name='layer-1', propagate_features=None, raise_on_exception=True,\n",
       "   random_state=235, shuffle=False,\n",
       "   stack=[Group(backend='threading', dtype=<class 'numpy.float32'>,\n",
       "   indexer=FoldIndex(X=None, folds=2, raise_on_exc...597C6A0>)],\n",
       "   n_jobs=-1, name='group-2', raise_on_exception=True, transformers=[])],\n",
       "   verbose=0)],\n",
       "       model_selection=False, n_jobs=None, raise_on_exception=True,\n",
       "       random_state=1, sample_size=20,\n",
       "       scorer=<function mean_squared_error at 0x2597C6A0>, shuffle=False,\n",
       "       verbose=False)"
      ]
     },
     "execution_count": 25,
     "metadata": {},
     "output_type": "execute_result"
    }
   ],
   "source": [
    "ensemble = SuperLearner(scorer=mean_squared_error, random_state=1)\n",
    "ensemble.add([RF, svmregr])\n",
    "ensemble.add([enet, lasso])\n",
    "ensemble.add_meta(RF)\n"
   ]
  },
  {
   "cell_type": "code",
   "execution_count": 26,
   "metadata": {},
   "outputs": [],
   "source": [
    "y_ensemble_pred = ensemble.fit(X_train, y_train).predict(X_test)"
   ]
  },
  {
   "cell_type": "code",
   "execution_count": 27,
   "metadata": {},
   "outputs": [
    {
     "name": "stdout",
     "output_type": "stream",
     "text": [
      "SuperLearner(array_check=None, backend=None, folds=2,\n",
      "       layers=[Layer(backend='threading', dtype=<class 'numpy.float32'>, n_jobs=-1,\n",
      "   name='layer-1', propagate_features=None, raise_on_exception=True,\n",
      "   random_state=235, shuffle=False,\n",
      "   stack=[Group(backend='threading', dtype=<class 'numpy.float32'>,\n",
      "   indexer=FoldIndex(X=None, folds=2, raise_on_exc...597C6A0>)],\n",
      "   n_jobs=-1, name='group-2', raise_on_exception=True, transformers=[])],\n",
      "   verbose=0)],\n",
      "       model_selection=False, n_jobs=None, raise_on_exception=True,\n",
      "       random_state=1, sample_size=20,\n",
      "       scorer=<function mean_squared_error at 0x2597C6A0>, shuffle=False,\n",
      "       verbose=False)\n",
      "r^2 on test data : -0.076991\n"
     ]
    }
   ],
   "source": [
    "r2_score_ensemble = r2_score(y_test, y_ensemble_pred)\n",
    "print(ensemble)\n",
    "print(\"r^2 on test data : %f\" % r2_score_ensemble)"
   ]
  },
  {
   "cell_type": "code",
   "execution_count": 28,
   "metadata": {},
   "outputs": [
    {
     "data": {
      "text/plain": [
       "0.18859285927740002"
      ]
     },
     "execution_count": 28,
     "metadata": {},
     "output_type": "execute_result"
    }
   ],
   "source": [
    "ensemblemse = mean_squared_error(y_test, y_ensemble_pred)\n",
    "ensemblemse"
   ]
  },
  {
   "cell_type": "markdown",
   "metadata": {},
   "source": [
    "### What's next: feature engineering"
   ]
  }
 ],
 "metadata": {
  "kernelspec": {
   "display_name": "Python 3",
   "language": "python",
   "name": "python3"
  },
  "language_info": {
   "codemirror_mode": {
    "name": "ipython",
    "version": 3
   },
   "file_extension": ".py",
   "mimetype": "text/x-python",
   "name": "python",
   "nbconvert_exporter": "python",
   "pygments_lexer": "ipython3",
   "version": "3.8.5"
  }
 },
 "nbformat": 4,
 "nbformat_minor": 4
}
